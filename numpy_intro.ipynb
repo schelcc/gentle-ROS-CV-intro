{
 "cells": [
  {
   "attachments": {},
   "cell_type": "markdown",
   "metadata": {},
   "source": [
    "# NumPy 101\n",
    "\n",
    "To properly use OpenCV (and actually understand what's going on) it's important to understand what NumPy is and the purpose it exists to serve. You *can* work with OpenCV without knowing it, but some things are going to get confusing, and eventually things just won't make sense.\n",
    "\n",
    "## What is it?\n",
    "NumPy is, at its most simple, a better version of a handful of native python features and libraries. It offers much better math with a much wider range of options, but more importantly it improves upon python's lists/arrays. If you've ever done any sort of matrix math, you know how useful matrices can be (solving systems of linear equations, for example) -- numpy is here to give us those tools. Vectors, matrices, dot products, matrix multiplication, inverse matrices, you name it, they probably have it.\n",
    "\n",
    "But how does it relate to computer vision? Well, images are just collections of numbers. You may be familiar with RGB pixels (and if you're not, you'll get there), where any given pixel on a screen has 3 individual LEDs which are red, green, and blue. The way in which these 3 basic colors mix give us the wide range of colors we see on our screens, and they do that by adjusting the brightness of each of these 3 smaller color pixels. Say red and green both have a brightness of 0 and blue has a brightness of 100%, what color do you think you'll see? How about if red has 50% and blue has 50%? (The answers are blue and purple respectively)\n",
    "\n",
    "To the computer, these brightness values are stored as integers ranging from (and including) 0 to 255 (why do you think 255 is the max value?). Then, it's useful to have some way to represent each one of these pixels with their 3 colors -- and in comes NumPy. NumPy allows us to not only have an array of these 3 integer color values, it also allows us to store them in another array, representing the whole image! Take the following example, a 1 pixel by 3 pixel image of a red pixel, green pixel, and blue pixel respectively:\n",
    "\n",
    "```\n",
    "[\n",
    "    [[255, 0, 0], [0, 255, 0], [0, 0, 255]]\n",
    "]\n",
    "```\n",
    "\n",
    "Now lets get our feet wet with some code. We'll start by importing numpy and renaming it to \"np\". This is a convention you'll see everywhere, it just exists to shorten the amount of typing."
   ]
  },
  {
   "cell_type": "code",
   "execution_count": 2,
   "metadata": {},
   "outputs": [],
   "source": [
    "import numpy as np"
   ]
  },
  {
   "attachments": {},
   "cell_type": "markdown",
   "metadata": {},
   "source": [
    "Now we'll create our first NumPy array."
   ]
  },
  {
   "cell_type": "code",
   "execution_count": 3,
   "metadata": {},
   "outputs": [
    {
     "name": "stdout",
     "output_type": "stream",
     "text": [
      "[1 2 3]\n"
     ]
    }
   ],
   "source": [
    "my_array = np.array([1,2,3])\n",
    "print(my_array)"
   ]
  },
  {
   "attachments": {},
   "cell_type": "markdown",
   "metadata": {},
   "source": [
    "Easy! Now lets create another one and do some math with them."
   ]
  },
  {
   "cell_type": "code",
   "execution_count": 4,
   "metadata": {},
   "outputs": [
    {
     "name": "stdout",
     "output_type": "stream",
     "text": [
      "[5 7 9]\n",
      "[3 3 3]\n",
      "32\n"
     ]
    }
   ],
   "source": [
    "my_second_array = np.array([4,5,6])\n",
    "\n",
    "print(my_array + my_second_array)\n",
    "print(my_second_array - my_array)\n",
    "print(my_array.dot(my_second_array))"
   ]
  },
  {
   "attachments": {},
   "cell_type": "markdown",
   "metadata": {},
   "source": [
    "Hopefully it's already becoming clear how useful NumPy is. A quick note about those operations, if any didn't make sense to you (like the ``.dot`` for example) don't worry, that will be covered later on -- right now we're just trying to get up to speed before doing OpenCV.\n",
    "\n",
    "Now lets try and make a NumPy array exactly like that 1x3 image from earlier. A quick note about notation, array dimensions are usually referred to as rows x columns, i.e. 1 row x 3 columns. "
   ]
  },
  {
   "cell_type": "code",
   "execution_count": 5,
   "metadata": {},
   "outputs": [
    {
     "name": "stdout",
     "output_type": "stream",
     "text": [
      "[[255   0   0]\n",
      " [  0 255   0]\n",
      " [  0   0 255]]\n"
     ]
    }
   ],
   "source": [
    "my_small_image = np.array([\n",
    "    [255, 0, 0], [0, 255, 0], [0, 0, 255]\n",
    "])\n",
    "print(my_small_image)"
   ]
  },
  {
   "attachments": {},
   "cell_type": "markdown",
   "metadata": {},
   "source": [
    "We won't now, but with one small change we could render that as an image if we wanted to. \n",
    "\n",
    "What is that small change? Well, recall from the intro that NumPy offers improvements on standard python features -- that isn't limited to the existence of arrays! We made an array of integers, but what if I wanted to make an array of floats? What if I want 32 bit floats? What about an unsigned integer? That's what NumPy gives us, and that's the small change -- OpenCV expects an array of unsigned 8-bit integers (call back to 255 being the max color value...), and we can change the array to meet that. (If you're confused on these types, here's a short article https://www.thoughtco.com/definition-of-unsigned-958174)"
   ]
  },
  {
   "cell_type": "code",
   "execution_count": 6,
   "metadata": {},
   "outputs": [
    {
     "name": "stdout",
     "output_type": "stream",
     "text": [
      "[[255   0   0]\n",
      " [  0 255   0]\n",
      " [  0   0 255]]\n"
     ]
    }
   ],
   "source": [
    "my_uint8_image = my_small_image.astype(np.uint8)\n",
    "print(my_uint8_image)\n",
    "\n",
    "# Alternatively, the type can be passed directly in to np.array upon declaration:\n",
    "my_small_image_2 = np.array([\n",
    "    [255, 0, 0],\n",
    "    [0, 255, 0],\n",
    "    [0, 0, 255]\n",
    "], dtype=np.uint8)"
   ]
  },
  {
   "attachments": {},
   "cell_type": "markdown",
   "metadata": {},
   "source": [
    "Sometimes it's useful to create an array of zeros, or maybe all ones. Sometimes maybe you'll want an array of random numbers, or maybe you'll want an identity matrix (will be covered in the math). NumPy gives us the ability to easily create any of these. All we need to know is the rows and columns (in that order).\n",
    "\n",
    "Note - the array's we've made so far have been either 1 or 2 dimensional. We aren't limited to just those two, and all of these methods are n-dimensional, i.e. we can make any dimension $n$"
   ]
  },
  {
   "cell_type": "code",
   "execution_count": 7,
   "metadata": {},
   "outputs": [
    {
     "name": "stdout",
     "output_type": "stream",
     "text": [
      "[[0 0 0]\n",
      " [0 0 0]\n",
      " [0 0 0]]\n",
      "[[1 1 1]\n",
      " [1 1 1]\n",
      " [1 1 1]]\n",
      "[[3 3 9]\n",
      " [6 9 7]\n",
      " [7 5 7]]\n",
      "[[1. 0. 0.]\n",
      " [0. 1. 0.]\n",
      " [0. 0. 1.]]\n"
     ]
    }
   ],
   "source": [
    "\n",
    "all_zeroes = np.zeros([3,3], dtype=np.uint8)\n",
    "all_ones = np.ones([3,3], dtype=np.uint8)\n",
    "all_random = np.random.randint(10, size=(3,3))\n",
    "identity = np.eye(3)\n",
    "\n",
    "print(all_zeroes)\n",
    "print(all_ones)\n",
    "print(all_random)\n",
    "print(identity)"
   ]
  },
  {
   "attachments": {},
   "cell_type": "markdown",
   "metadata": {},
   "source": [
    "At this point what needs to be covered for OpenCV has been, so feel free to move on to that part if you want. It is *highly* recommended to read through and understand the math, but not required. As for more NumPy, the online documentation is high quality so Google is your friend.\n",
    "\n",
    "## Math.\n",
    "\n",
    "We'll start by just naming a few things. \n",
    "\n",
    "First, a scalar. A scalar is just a number. That's it. It's just a number that has no other information with it other than it and its sign. \n",
    "\n",
    "Second, a vector is simply a collection of numbers which, in our case, are one dimensional. A vector can represent a million different things -- if you have a physics background, it's a force with direction and magnitude. If you have more of a math background, you may know it as simply a coordinate pair/triple. The cool thing about vectors (and linear algebra, the field they come from) is that they can represent any of those things! We use vectors in a couple of different ways, like representing the individual pixels in an image, or maybe a point in 3D space around the car, or maybe even the acceleration of the car. There's a couple of different notations for a vector, but most commonly you'll see $$\\vec{x}=<u, v>$$ or $$\\vec{x}=\\begin{bmatrix} u \\\\ v \\end{bmatrix}$$. The former notation is used a lot in vector calculus, the latter is common to see in linear algebra.\n",
    "\n",
    "Third and final, matrices. A matrix is just a collection of vectors (see a pattern?). These are just noted as $$\\begin{bmatrix}\n",
    "r_1c_1 & r_1c_2 & r_1c_3 \\\\\n",
    "r_2c_1 & r_2c_2 & r_3c_3 \\\\\n",
    "r_3c_1 & r_3c_2 & r_3c_3 \\\\ \\end{bmatrix}$$ and their dimension is usually described as their rows x columns -- just like NumPy arrays.\n",
    "\n",
    "1D NumPy arrays are just vectors, and n-dimensional NumPy arrays are just matrices.\n",
    "\n",
    "### Vector-Scalar multiplication\n",
    "\n",
    "Multiplying a vector and scalar is super simple -- if you have the scalar $a$ and the vector $<u,v>$ then $a<u,v>=<au,av>$. The scalar just multiplies into each entry.\n",
    "\n",
    "### Dot Product\n",
    "\n",
    "The dot product is a vector operation which gives you a scalar. That scalar can essentially describe \"how much\" of the vectors are point in each other's direction.\n",
    "\n",
    "Assuming $\\vec{u} = <u_1, u_2, u_3>$ and $\\vec{v}=<v_1,v_2,v_3>$, the dot product of $\\vec{u}$ and $\\vec{v}$ is shown as\n",
    "$$\n",
    "\\vec{u} \\ \\ \\cdot \\ \\ \\vec{v} \\ = u_1v_1 \\ + \\ u_2v_2 \\ + \\ u_3v_3\n",
    "$$\n",
    "or\n",
    "$$\n",
    "\\vec{u} \\ \\ \\cdot \\ \\ \\vec{v} \\ = |\\vec{u}| |\\vec{v}| \\cos(\\theta)\n",
    "$$\n",
    "where $\\theta$ is the angle formed between $\\vec{u}$ and $\\vec{v}$\n",
    "\n",
    "If the dot product is...\n",
    "- Positive: the angle between $\\vec{u}$ and $\\vec{v}$ is less than 90 degrees (acute)\n",
    "- Negative: the angle between $\\vec{u}$ and $\\vec{v}$ is greater than 90 degrees (obtuse)\n",
    "- Zero: $\\vec{u}$ and $\\vec{v}$ are parallel\n",
    "\n",
    "### Vector-Matrix multiplication\n",
    "Matrix-Matrix multiplication is messy and best left to places that have already covered it (https://www.mathsisfun.com/algebra/matrix-multiplying.html). Thankfully, vector-matrix multiplication is much simpler and is used all the time.\n",
    "\n",
    "The easiest way to explain it is to show it:\n",
    "$$\n",
    "\\begin{bmatrix} x \\\\ y \\\\ z \\\\ \\end{bmatrix}\n",
    "\\begin{bmatrix} a_1 & a_2 & a_3 \\\\ b_1 & b_2 & b_3 \\\\ c_1 & c_2 & c_3 \\\\ \\end{bmatrix} =\n",
    "\\begin{bmatrix} xa_1 + ya_2 + za_3 \\\\ xb_1 + yb_2 + zb_3 \\\\ xc_1 + yc_2 + zd_3 \\\\ \\end{bmatrix}\n",
    "$$\n",
    "\n",
    "Essentially, the matrix splits into vectors by columns, and the entries in the multiplied vector become scalars to multiply each matrix vector.\n",
    "\n",
    "### Identity matrix\n",
    "\n",
    "When it comes to matrix algebra, the identity matrix is essentially the new \"1\". Any vector multiplied into the correspondng identity matrix is just that vector, any matrix times an identity matrix is just the matrix, the list goes on. What they actually are and what they actually represent is shockingly complex and if you're interested, take linear algebra -- but for us, what I've listed is all you'll ever need to know.\n",
    "\n",
    "The identity matrix itself is just a square matrix (num rows = num cols) with 1s along the main diagonal and 0s everywhere else. These don't have a specific size and can be any size $n$, it just needs to be squared. Often, you'll see them noted as $I_n$.\n",
    "\n",
    "$$I_3 = \\begin{bmatrix} 1 & 0 & 0 \\\\ 0 & 1 & 0 \\\\ 0 & 0 & 1 \\\\ \\end{bmatrix}$$\n",
    "\n",
    "That's all we'll go through, so here are some examples of this stuff in action with NumPy."
   ]
  },
  {
   "cell_type": "code",
   "execution_count": 8,
   "metadata": {},
   "outputs": [
    {
     "name": "stdout",
     "output_type": "stream",
     "text": [
      "6\n",
      "0\n",
      "[1. 2. 3.]\n",
      "[10 12 14]\n",
      "[0 0 0]\n"
     ]
    }
   ],
   "source": [
    "a = np.array([1, 2, 3])\n",
    "b = np.array([0,0,0])\n",
    "c = np.array([1,1,1])\n",
    "i = np.eye(3)\n",
    "\n",
    "m = np.array([\n",
    "    [1,2,3],\n",
    "    [3,2,1],\n",
    "    [1,2,3]\n",
    "])\n",
    "\n",
    "print(a.dot(c))\n",
    "print(b.dot(a))\n",
    "print(a.dot(i))\n",
    "print(a.dot(m)) # in NumPY vector-matrix multiplication is the dot product of the vector and matrix\n",
    "print(b.dot(m))"
   ]
  }
 ],
 "metadata": {
  "kernelspec": {
   "display_name": "Python 3",
   "language": "python",
   "name": "python3"
  },
  "language_info": {
   "codemirror_mode": {
    "name": "ipython",
    "version": 3
   },
   "file_extension": ".py",
   "mimetype": "text/x-python",
   "name": "python",
   "nbconvert_exporter": "python",
   "pygments_lexer": "ipython3",
   "version": "3.10.6 (main, Nov 14 2022, 16:10:14) [GCC 11.3.0]"
  },
  "orig_nbformat": 4,
  "vscode": {
   "interpreter": {
    "hash": "916dbcbb3f70747c44a77c7bcd40155683ae19c65e1c03b4aa3499c5328201f1"
   }
  }
 },
 "nbformat": 4,
 "nbformat_minor": 2
}
